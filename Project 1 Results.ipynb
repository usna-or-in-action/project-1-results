{
 "cells": [
  {
   "cell_type": "markdown",
   "id": "08832e7b-390f-40d9-9994-2bae230f90f2",
   "metadata": {
    "editable": true,
    "slideshow": {
     "slide_type": ""
    },
    "tags": []
   },
   "source": [
    "**Operations Research in Action &#x25aa; Fall 2024**"
   ]
  },
  {
   "cell_type": "markdown",
   "id": "b06d6ac2-06c0-495e-9c64-161dd7ba7a1b",
   "metadata": {
    "editable": true,
    "slideshow": {
     "slide_type": ""
    },
    "tags": []
   },
   "source": [
    "# Project 1 &ndash; Results"
   ]
  },
  {
   "cell_type": "markdown",
   "id": "4cdaac7c-bd63-4bb7-82b3-043f78964989",
   "metadata": {
    "editable": true,
    "slideshow": {
     "slide_type": ""
    },
    "tags": []
   },
   "source": [
    "## Our final model"
   ]
  },
  {
   "cell_type": "markdown",
   "id": "4261a34e-44fb-4f1e-b799-ab3ca32e2121",
   "metadata": {
    "editable": true,
    "slideshow": {
     "slide_type": ""
    },
    "tags": []
   },
   "source": [
    "- Let's dig deeper into the regression model we settled on (Model 5), with\n",
    "    - log(BeerConsumption) as the response variable, and\n",
    "    - AvgBeerPrice, AvgCannedSoftDrinkPrice, RamadanDays, Year, Month as the explanatory variables."
   ]
  },
  {
   "cell_type": "markdown",
   "id": "6d729b4a-b749-446b-9b6a-d5bed4930d39",
   "metadata": {
    "editable": true,
    "slideshow": {
     "slide_type": ""
    },
    "tags": []
   },
   "source": [
    "- Let's load `olsrr` so we can recompute the VIFs."
   ]
  },
  {
   "cell_type": "code",
   "execution_count": null,
   "id": "4452b0c0-47c2-4751-b492-c43154d2573d",
   "metadata": {
    "editable": true,
    "slideshow": {
     "slide_type": ""
    },
    "tags": []
   },
   "outputs": [],
   "source": [
    "library(olsrr)"
   ]
  },
  {
   "cell_type": "markdown",
   "id": "25e80bac-52bb-4c9b-8947-0939e48f1cbf",
   "metadata": {
    "editable": true,
    "slideshow": {
     "slide_type": ""
    },
    "tags": []
   },
   "source": [
    "- Load the data:"
   ]
  },
  {
   "cell_type": "code",
   "execution_count": null,
   "id": "459151c4-9585-40e9-af48-69ef349c8077",
   "metadata": {
    "editable": true,
    "slideshow": {
     "slide_type": ""
    },
    "tags": []
   },
   "outputs": [],
   "source": [
    "all_df <- read.csv('data/all.csv')"
   ]
  },
  {
   "cell_type": "markdown",
   "id": "2045f6f3-49c2-4c66-ad48-4e76040bbde6",
   "metadata": {
    "editable": true,
    "slideshow": {
     "slide_type": ""
    },
    "tags": []
   },
   "source": [
    "- Recall that we redefined `Month` in order to explicitly tell R the order of the categorical variable.\n",
    "\n",
    "- We also need to compute log(BeerConsumption). "
   ]
  },
  {
   "cell_type": "code",
   "execution_count": null,
   "id": "be4f9745-3f15-4cbc-834e-b933334ca09a",
   "metadata": {
    "editable": true,
    "slideshow": {
     "slide_type": ""
    },
    "tags": []
   },
   "outputs": [],
   "source": [
    "all_df$Month <- factor(\n",
    "    all_df$Month, \n",
    "    levels = c('January', 'February', 'March', 'April', 'May', 'June', \n",
    "               'July', 'August', 'September', 'October', 'November', 'December')\n",
    ") \n",
    "\n",
    "all_df$logBeerConsumption <- log(all_df$BeerConsumption)"
   ]
  },
  {
   "cell_type": "markdown",
   "id": "023cea56-f658-4341-ae97-288bdb1b245c",
   "metadata": {
    "editable": true,
    "slideshow": {
     "slide_type": ""
    },
    "tags": []
   },
   "source": [
    "- Now we can recompute the fitted model: "
   ]
  },
  {
   "cell_type": "code",
   "execution_count": null,
   "id": "41bd6e91-da30-4261-a6d0-099fca87fce1",
   "metadata": {
    "editable": true,
    "slideshow": {
     "slide_type": ""
    },
    "tags": []
   },
   "outputs": [],
   "source": [
    "best5_logfit <- lm(\n",
    "    logBeerConsumption\n",
    "    ~\n",
    "    AvgBeerPrice\n",
    "    + AvgCannedSoftDrinkPrice\n",
    "    + RamadanDays\n",
    "    + Year\n",
    "    + Month,\n",
    "    data = all_df \n",
    ")\n",
    "\n",
    "summary(best5_logfit)"
   ]
  },
  {
   "cell_type": "markdown",
   "id": "49e706ee-f766-45b4-92d7-62991f4912b5",
   "metadata": {
    "editable": true,
    "slideshow": {
     "slide_type": ""
    },
    "tags": []
   },
   "source": [
    "- Let's recreate the diagnostic plots:"
   ]
  },
  {
   "cell_type": "code",
   "execution_count": null,
   "id": "5b0b325d-424c-4690-9fcd-e6f93b40ea95",
   "metadata": {
    "editable": true,
    "slideshow": {
     "slide_type": ""
    },
    "tags": []
   },
   "outputs": [],
   "source": [
    "par(mfrow=c(2, 2))\n",
    "plot(best5_logfit, which=1)\n",
    "plot(best5_logfit, which=2)\n",
    "plot(best5_logfit, which=4)\n",
    "plot(best5_logfit, which=5)"
   ]
  },
  {
   "cell_type": "markdown",
   "id": "62a863df-4aaf-4a1d-b086-958eb4d3ceb3",
   "metadata": {
    "editable": true,
    "slideshow": {
     "slide_type": ""
    },
    "tags": []
   },
   "source": [
    "- Finally, let's recompute the VIFs."
   ]
  },
  {
   "cell_type": "code",
   "execution_count": null,
   "id": "cf8dd07e-e250-461f-a289-828e2bb77aa3",
   "metadata": {
    "editable": true,
    "slideshow": {
     "slide_type": ""
    },
    "tags": []
   },
   "outputs": [],
   "source": [
    "ols_vif_tol(best5_logfit)"
   ]
  },
  {
   "cell_type": "markdown",
   "id": "bd0b00f0-3576-4f98-99df-7e5abbcd32bb",
   "metadata": {},
   "source": [
    "## Diagnostics"
   ]
  },
  {
   "cell_type": "markdown",
   "id": "a89a0d94-b48a-4421-b0fb-4e425c981f6b",
   "metadata": {},
   "source": [
    "- Comment on whether the conditions for linear regression have been met. Focus on linearity, equal variance, and normality."
   ]
  },
  {
   "cell_type": "markdown",
   "id": "60a547f3-fd91-40a9-82b2-19ae6674fc97",
   "metadata": {
    "editable": true,
    "slideshow": {
     "slide_type": ""
    },
    "tags": []
   },
   "source": [
    "_Write your notes here. Double-click to edit._"
   ]
  },
  {
   "cell_type": "markdown",
   "id": "5a95b78b-9a11-4ce4-bb00-31b9eea93369",
   "metadata": {
    "editable": true,
    "slideshow": {
     "slide_type": ""
    },
    "tags": []
   },
   "source": [
    "- Comment on whether there are any problematic observations that may distort the outcome and accuracy of the regression."
   ]
  },
  {
   "cell_type": "markdown",
   "id": "b8dd72b7-43a6-4c2a-9612-56b0b00e8e1d",
   "metadata": {
    "editable": true,
    "slideshow": {
     "slide_type": ""
    },
    "tags": []
   },
   "source": [
    "_Write your notes here. Double-click to edit._"
   ]
  },
  {
   "cell_type": "markdown",
   "id": "7e50d151-ccea-427c-b758-68a70675b0f8",
   "metadata": {
    "editable": true,
    "slideshow": {
     "slide_type": ""
    },
    "tags": []
   },
   "source": [
    "- Comment on whether the predictors in the model exhibit multicollinearity."
   ]
  },
  {
   "cell_type": "markdown",
   "id": "00ad8469-2d18-4180-88b8-fca38696dbbb",
   "metadata": {
    "editable": true,
    "slideshow": {
     "slide_type": ""
    },
    "tags": []
   },
   "source": [
    "_Write your notes here. Double-click to edit._"
   ]
  },
  {
   "cell_type": "markdown",
   "id": "b2f98087-789f-4f05-b511-127a1acc00f8",
   "metadata": {
    "editable": true,
    "slideshow": {
     "slide_type": ""
    },
    "tags": []
   },
   "source": [
    "## Statistical significance "
   ]
  },
  {
   "cell_type": "markdown",
   "id": "f32db70a-e6bf-4149-83df-99036604076f",
   "metadata": {
    "editable": true,
    "slideshow": {
     "slide_type": ""
    },
    "tags": []
   },
   "source": [
    "- Comment on the effectiveness of the predictors in this model. "
   ]
  },
  {
   "cell_type": "markdown",
   "id": "2f2a41f6-5645-43fa-b4c4-c416b0dad0b9",
   "metadata": {
    "editable": true,
    "slideshow": {
     "slide_type": ""
    },
    "tags": []
   },
   "source": [
    "_Write your notes here. Double-click to edit._"
   ]
  },
  {
   "cell_type": "markdown",
   "id": "928a2a65-f22d-440a-8fc1-6e7e7e623b4e",
   "metadata": {
    "editable": true,
    "slideshow": {
     "slide_type": ""
    },
    "tags": []
   },
   "source": [
    "- Comment on the overall effectiveness of the model."
   ]
  },
  {
   "cell_type": "markdown",
   "id": "586c7a6c-9c64-4911-aa90-fca17f2eb472",
   "metadata": {
    "editable": true,
    "slideshow": {
     "slide_type": ""
    },
    "tags": []
   },
   "source": [
    "_Write your notes here. Double-click to edit._"
   ]
  },
  {
   "cell_type": "markdown",
   "id": "a548d915-d462-4d5f-99c4-db33fea87f6c",
   "metadata": {
    "editable": true,
    "slideshow": {
     "slide_type": ""
    },
    "tags": []
   },
   "source": [
    "## Interpretation"
   ]
  },
  {
   "cell_type": "markdown",
   "id": "82e2b494-3e4b-43ae-938f-8b1c8052affc",
   "metadata": {
    "editable": true,
    "slideshow": {
     "slide_type": ""
    },
    "tags": []
   },
   "source": [
    "- Interpret the relationship between monthly beer consumption and each of the following variables: average beer price, average canned soft drink price, number of Ramadan days in a month. "
   ]
  },
  {
   "cell_type": "markdown",
   "id": "2d88455f-5433-4c31-a7aa-d398bd8fdcd1",
   "metadata": {
    "editable": true,
    "slideshow": {
     "slide_type": ""
    },
    "tags": []
   },
   "source": [
    "_Write your notes here. Double-click to edit._"
   ]
  },
  {
   "cell_type": "markdown",
   "id": "3ded1274-a61e-4637-a977-31b8e6a01ffa",
   "metadata": {
    "editable": true,
    "slideshow": {
     "slide_type": ""
    },
    "tags": []
   },
   "source": [
    "- Interpret the relationship between the month of August and monthly beer consumption."
   ]
  },
  {
   "cell_type": "markdown",
   "id": "ca92a1ad-70a5-4e62-b53b-8f0af812b988",
   "metadata": {
    "editable": true,
    "slideshow": {
     "slide_type": ""
    },
    "tags": []
   },
   "source": [
    "_Write your notes here. Double-click to edit._"
   ]
  },
  {
   "cell_type": "markdown",
   "id": "2d1db554-39b2-40ef-95f1-40671d617e5a",
   "metadata": {
    "editable": true,
    "slideshow": {
     "slide_type": ""
    },
    "tags": []
   },
   "source": [
    "- Show how the model can be used to predict a hypothetical scenario. Provide a prediction interval. "
   ]
  },
  {
   "cell_type": "markdown",
   "id": "ef2575a8-3f11-4de7-a03d-da2a243f15db",
   "metadata": {
    "editable": true,
    "slideshow": {
     "slide_type": ""
    },
    "tags": []
   },
   "source": [
    "_Write your notes here. Double-click to edit._"
   ]
  }
 ],
 "metadata": {
  "kernelspec": {
   "display_name": "R",
   "language": "R",
   "name": "ir"
  },
  "language_info": {
   "codemirror_mode": "r",
   "file_extension": ".r",
   "mimetype": "text/x-r-source",
   "name": "R",
   "pygments_lexer": "r",
   "version": "4.2.2"
  }
 },
 "nbformat": 4,
 "nbformat_minor": 5
}
