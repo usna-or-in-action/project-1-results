{
 "cells": [
  {
   "cell_type": "markdown",
   "id": "08832e7b-390f-40d9-9994-2bae230f90f2",
   "metadata": {
    "editable": true,
    "slideshow": {
     "slide_type": ""
    },
    "tags": []
   },
   "source": [
    "**Operations Research in Action &#x25aa; Fall 2024**"
   ]
  },
  {
   "cell_type": "markdown",
   "id": "b06d6ac2-06c0-495e-9c64-161dd7ba7a1b",
   "metadata": {
    "editable": true,
    "slideshow": {
     "slide_type": ""
    },
    "tags": []
   },
   "source": [
    "# Project 1 &ndash; Results"
   ]
  },
  {
   "cell_type": "markdown",
   "id": "4cdaac7c-bd63-4bb7-82b3-043f78964989",
   "metadata": {
    "editable": true,
    "slideshow": {
     "slide_type": ""
    },
    "tags": []
   },
   "source": [
    "## Our final model"
   ]
  },
  {
   "cell_type": "markdown",
   "id": "4261a34e-44fb-4f1e-b799-ab3ca32e2121",
   "metadata": {
    "editable": true,
    "slideshow": {
     "slide_type": ""
    },
    "tags": []
   },
   "source": [
    "- Let's dig deeper into the regression model we settled on (Model 5), with\n",
    "    - log(BeerConsumption) as the response variable, and\n",
    "    - AvgBeerPrice, AvgCannedSoftDrinkPrice, RamadanDays, Year, Month as the explanatory variables."
   ]
  },
  {
   "cell_type": "markdown",
   "id": "6d729b4a-b749-446b-9b6a-d5bed4930d39",
   "metadata": {
    "editable": true,
    "slideshow": {
     "slide_type": ""
    },
    "tags": []
   },
   "source": [
    "- Let's load `olsrr` so we can recompute the VIFs."
   ]
  },
  {
   "cell_type": "code",
   "execution_count": 1,
   "id": "4452b0c0-47c2-4751-b492-c43154d2573d",
   "metadata": {
    "editable": true,
    "slideshow": {
     "slide_type": ""
    },
    "tags": []
   },
   "outputs": [
    {
     "name": "stderr",
     "output_type": "stream",
     "text": [
      "\n",
      "Attaching package: ‘olsrr’\n",
      "\n",
      "\n",
      "The following object is masked from ‘package:datasets’:\n",
      "\n",
      "    rivers\n",
      "\n",
      "\n"
     ]
    }
   ],
   "source": [
    "library(olsrr)"
   ]
  },
  {
   "cell_type": "markdown",
   "id": "25e80bac-52bb-4c9b-8947-0939e48f1cbf",
   "metadata": {
    "editable": true,
    "slideshow": {
     "slide_type": ""
    },
    "tags": []
   },
   "source": [
    "- Load the data:"
   ]
  },
  {
   "cell_type": "code",
   "execution_count": 2,
   "id": "459151c4-9585-40e9-af48-69ef349c8077",
   "metadata": {
    "editable": true,
    "slideshow": {
     "slide_type": ""
    },
    "tags": []
   },
   "outputs": [],
   "source": [
    "all_df <- read.csv('data/all.csv')"
   ]
  },
  {
   "cell_type": "markdown",
   "id": "2045f6f3-49c2-4c66-ad48-4e76040bbde6",
   "metadata": {
    "editable": true,
    "slideshow": {
     "slide_type": ""
    },
    "tags": []
   },
   "source": [
    "- Recall that we redefined `Month` in order to explicitly tell R the order of the categorical variable.\n",
    "\n",
    "- We also need to compute log(BeerConsumption). "
   ]
  },
  {
   "cell_type": "code",
   "execution_count": 3,
   "id": "be4f9745-3f15-4cbc-834e-b933334ca09a",
   "metadata": {
    "editable": true,
    "slideshow": {
     "slide_type": ""
    },
    "tags": []
   },
   "outputs": [],
   "source": [
    "all_df$Month <- factor(\n",
    "    all_df$Month, \n",
    "    levels = c('January', 'February', 'March', 'April', 'May', 'June', \n",
    "               'July', 'August', 'September', 'October', 'November', 'December')\n",
    ") \n",
    "\n",
    "all_df$logBeerConsumption <- log(all_df$BeerConsumption)"
   ]
  },
  {
   "cell_type": "markdown",
   "id": "023cea56-f658-4341-ae97-288bdb1b245c",
   "metadata": {
    "editable": true,
    "slideshow": {
     "slide_type": ""
    },
    "tags": []
   },
   "source": [
    "- Now we can recompute the fitted model: "
   ]
  },
  {
   "cell_type": "code",
   "execution_count": 4,
   "id": "41bd6e91-da30-4261-a6d0-099fca87fce1",
   "metadata": {
    "editable": true,
    "slideshow": {
     "slide_type": ""
    },
    "tags": []
   },
   "outputs": [
    {
     "data": {
      "text/plain": [
       "\n",
       "Call:\n",
       "lm(formula = logBeerConsumption ~ AvgBeerPrice + AvgCannedSoftDrinkPrice + \n",
       "    RamadanDays + Year + Month, data = all_df)\n",
       "\n",
       "Residuals:\n",
       "      Min        1Q    Median        3Q       Max \n",
       "-0.212113 -0.052371 -0.001813  0.053253  0.156207 \n",
       "\n",
       "Coefficients:\n",
       "                          Estimate Std. Error t value Pr(>|t|)    \n",
       "(Intercept)             -2.567e+02  1.200e+01 -21.386  < 2e-16 ***\n",
       "AvgBeerPrice            -4.977e-04  1.196e-04  -4.162 9.08e-05 ***\n",
       "AvgCannedSoftDrinkPrice  1.747e-04  6.572e-05   2.658  0.00979 ** \n",
       "RamadanDays             -1.446e-02  1.808e-03  -7.997 2.22e-11 ***\n",
       "Year                     1.375e-01  5.971e-03  23.030  < 2e-16 ***\n",
       "MonthFebruary            4.102e-02  4.367e-02   0.939  0.35082    \n",
       "MonthMarch               3.540e-01  4.684e-02   7.557 1.39e-10 ***\n",
       "MonthApril               2.796e-01  4.861e-02   5.751 2.30e-07 ***\n",
       "MonthMay                 5.993e-01  4.540e-02  13.200  < 2e-16 ***\n",
       "MonthJune                7.858e-01  4.427e-02  17.749  < 2e-16 ***\n",
       "MonthJuly                9.545e-01  4.542e-02  21.014  < 2e-16 ***\n",
       "MonthAugust              9.922e-01  4.467e-02  22.210  < 2e-16 ***\n",
       "MonthSeptember           7.667e-01  4.389e-02  17.470  < 2e-16 ***\n",
       "MonthOctober             5.802e-01  4.355e-02  13.321  < 2e-16 ***\n",
       "MonthNovember            4.507e-01  4.392e-02  10.262 1.88e-15 ***\n",
       "MonthDecember            3.729e-01  4.336e-02   8.600 1.79e-12 ***\n",
       "---\n",
       "Signif. codes:  0 ‘***’ 0.001 ‘**’ 0.01 ‘*’ 0.05 ‘.’ 0.1 ‘ ’ 1\n",
       "\n",
       "Residual standard error: 0.08071 on 68 degrees of freedom\n",
       "Multiple R-squared:  0.9732,\tAdjusted R-squared:  0.9673 \n",
       "F-statistic: 164.8 on 15 and 68 DF,  p-value: < 2.2e-16\n"
      ]
     },
     "metadata": {},
     "output_type": "display_data"
    }
   ],
   "source": [
    "best5_logfit <- lm(\n",
    "    logBeerConsumption\n",
    "    ~\n",
    "    AvgBeerPrice\n",
    "    + AvgCannedSoftDrinkPrice\n",
    "    + RamadanDays\n",
    "    + Year\n",
    "    + Month,\n",
    "    data = all_df \n",
    ")\n",
    "\n",
    "summary(best5_logfit)"
   ]
  },
  {
   "cell_type": "markdown",
   "id": "49e706ee-f766-45b4-92d7-62991f4912b5",
   "metadata": {
    "editable": true,
    "slideshow": {
     "slide_type": ""
    },
    "tags": []
   },
   "source": [
    "- Let's recreate the diagnostic plots:"
   ]
  },
  {
   "cell_type": "code",
   "execution_count": 5,
   "id": "5b0b325d-424c-4690-9fcd-e6f93b40ea95",
   "metadata": {
    "editable": true,
    "slideshow": {
     "slide_type": ""
    },
    "tags": []
   },
   "outputs": [
    {
     "data": {
      "image/png": "[encoded data removed]",
      "text/plain": [
       "Plot with title “”"
      ]
     },
     "metadata": {
      "image/png": {
       "height": 420,
       "width": 420
      }
     },
     "output_type": "display_data"
    }
   ],
   "source": [
    "par(mfrow=c(2, 2))\n",
    "plot(best5_logfit, which=1)\n",
    "plot(best5_logfit, which=2)\n",
    "plot(best5_logfit, which=4)\n",
    "plot(best5_logfit, which=5)"
   ]
  },
  {
   "cell_type": "markdown",
   "id": "62a863df-4aaf-4a1d-b086-958eb4d3ceb3",
   "metadata": {
    "editable": true,
    "slideshow": {
     "slide_type": ""
    },
    "tags": []
   },
   "source": [
    "- Finally, let's recompute the VIFs."
   ]
  },
  {
   "cell_type": "code",
   "execution_count": 6,
   "id": "cf8dd07e-e250-461f-a289-828e2bb77aa3",
   "metadata": {
    "editable": true,
    "slideshow": {
     "slide_type": ""
    },
    "tags": []
   },
   "outputs": [
    {
     "data": {
      "text/html": [
       "<table class=\"dataframe\">\n",
       "<caption>A data.frame: 15 × 3</caption>\n",
       "<thead>\n",
       "\t<tr><th scope=col>Variables</th><th scope=col>Tolerance</th><th scope=col>VIF</th></tr>\n",
       "\t<tr><th scope=col>&lt;chr&gt;</th><th scope=col>&lt;dbl&gt;</th><th scope=col>&lt;dbl&gt;</th></tr>\n",
       "</thead>\n",
       "<tbody>\n",
       "\t<tr><td>AvgBeerPrice           </td><td>0.7035491</td><td>1.421365</td></tr>\n",
       "\t<tr><td>AvgCannedSoftDrinkPrice</td><td>0.4621086</td><td>2.163994</td></tr>\n",
       "\t<tr><td>RamadanDays            </td><td>0.5450715</td><td>1.834622</td></tr>\n",
       "\t<tr><td>Year                   </td><td>0.5438136</td><td>1.838866</td></tr>\n",
       "\t<tr><td>MonthFebruary          </td><td>0.5323949</td><td>1.878305</td></tr>\n",
       "\t<tr><td>MonthMarch             </td><td>0.4627657</td><td>2.160921</td></tr>\n",
       "\t<tr><td>MonthApril             </td><td>0.4297176</td><td>2.327110</td></tr>\n",
       "\t<tr><td>MonthMay               </td><td>0.4924821</td><td>2.030531</td></tr>\n",
       "\t<tr><td>MonthJune              </td><td>0.5180137</td><td>1.930451</td></tr>\n",
       "\t<tr><td>MonthJuly              </td><td>0.4920505</td><td>2.032312</td></tr>\n",
       "\t<tr><td>MonthAugust            </td><td>0.5086548</td><td>1.965970</td></tr>\n",
       "\t<tr><td>MonthSeptember         </td><td>0.5271079</td><td>1.897145</td></tr>\n",
       "\t<tr><td>MonthOctober           </td><td>0.5351536</td><td>1.868622</td></tr>\n",
       "\t<tr><td>MonthNovember          </td><td>0.5262080</td><td>1.900389</td></tr>\n",
       "\t<tr><td>MonthDecember          </td><td>0.5400055</td><td>1.851833</td></tr>\n",
       "</tbody>\n",
       "</table>\n"
      ],
      "text/latex": [
       "A data.frame: 15 × 3\n",
       "\\begin{tabular}{lll}\n",
       " Variables & Tolerance & VIF\\\\\n",
       " <chr> & <dbl> & <dbl>\\\\\n",
       "\\hline\n",
       "\t AvgBeerPrice            & 0.7035491 & 1.421365\\\\\n",
       "\t AvgCannedSoftDrinkPrice & 0.4621086 & 2.163994\\\\\n",
       "\t RamadanDays             & 0.5450715 & 1.834622\\\\\n",
       "\t Year                    & 0.5438136 & 1.838866\\\\\n",
       "\t MonthFebruary           & 0.5323949 & 1.878305\\\\\n",
       "\t MonthMarch              & 0.4627657 & 2.160921\\\\\n",
       "\t MonthApril              & 0.4297176 & 2.327110\\\\\n",
       "\t MonthMay                & 0.4924821 & 2.030531\\\\\n",
       "\t MonthJune               & 0.5180137 & 1.930451\\\\\n",
       "\t MonthJuly               & 0.4920505 & 2.032312\\\\\n",
       "\t MonthAugust             & 0.5086548 & 1.965970\\\\\n",
       "\t MonthSeptember          & 0.5271079 & 1.897145\\\\\n",
       "\t MonthOctober            & 0.5351536 & 1.868622\\\\\n",
       "\t MonthNovember           & 0.5262080 & 1.900389\\\\\n",
       "\t MonthDecember           & 0.5400055 & 1.851833\\\\\n",
       "\\end{tabular}\n"
      ],
      "text/markdown": [
       "\n",
       "A data.frame: 15 × 3\n",
       "\n",
       "| Variables &lt;chr&gt; | Tolerance &lt;dbl&gt; | VIF &lt;dbl&gt; |\n",
       "|---|---|---|\n",
       "| AvgBeerPrice            | 0.7035491 | 1.421365 |\n",
       "| AvgCannedSoftDrinkPrice | 0.4621086 | 2.163994 |\n",
       "| RamadanDays             | 0.5450715 | 1.834622 |\n",
       "| Year                    | 0.5438136 | 1.838866 |\n",
       "| MonthFebruary           | 0.5323949 | 1.878305 |\n",
       "| MonthMarch              | 0.4627657 | 2.160921 |\n",
       "| MonthApril              | 0.4297176 | 2.327110 |\n",
       "| MonthMay                | 0.4924821 | 2.030531 |\n",
       "| MonthJune               | 0.5180137 | 1.930451 |\n",
       "| MonthJuly               | 0.4920505 | 2.032312 |\n",
       "| MonthAugust             | 0.5086548 | 1.965970 |\n",
       "| MonthSeptember          | 0.5271079 | 1.897145 |\n",
       "| MonthOctober            | 0.5351536 | 1.868622 |\n",
       "| MonthNovember           | 0.5262080 | 1.900389 |\n",
       "| MonthDecember           | 0.5400055 | 1.851833 |\n",
       "\n"
      ],
      "text/plain": [
       "   Variables               Tolerance VIF     \n",
       "1  AvgBeerPrice            0.7035491 1.421365\n",
       "2  AvgCannedSoftDrinkPrice 0.4621086 2.163994\n",
       "3  RamadanDays             0.5450715 1.834622\n",
       "4  Year                    0.5438136 1.838866\n",
       "5  MonthFebruary           0.5323949 1.878305\n",
       "6  MonthMarch              0.4627657 2.160921\n",
       "7  MonthApril              0.4297176 2.327110\n",
       "8  MonthMay                0.4924821 2.030531\n",
       "9  MonthJune               0.5180137 1.930451\n",
       "10 MonthJuly               0.4920505 2.032312\n",
       "11 MonthAugust             0.5086548 1.965970\n",
       "12 MonthSeptember          0.5271079 1.897145\n",
       "13 MonthOctober            0.5351536 1.868622\n",
       "14 MonthNovember           0.5262080 1.900389\n",
       "15 MonthDecember           0.5400055 1.851833"
      ]
     },
     "metadata": {},
     "output_type": "display_data"
    }
   ],
   "source": [
    "ols_vif_tol(best5_logfit)"
   ]
  },
  {
   "cell_type": "markdown",
   "id": "bd0b00f0-3576-4f98-99df-7e5abbcd32bb",
   "metadata": {},
   "source": [
    "## Diagnostics"
   ]
  },
  {
   "cell_type": "markdown",
   "id": "a89a0d94-b48a-4421-b0fb-4e425c981f6b",
   "metadata": {},
   "source": [
    "- Comment on whether the conditions for linear regression have been met. Focus on linearity, equal variance, and normality."
   ]
  },
  {
   "cell_type": "markdown",
   "id": "60a547f3-fd91-40a9-82b2-19ae6674fc97",
   "metadata": {
    "editable": true,
    "slideshow": {
     "slide_type": ""
    },
    "tags": []
   },
   "source": [
    "_Write your notes here. Double-click to edit._"
   ]
  },
  {
   "cell_type": "markdown",
   "id": "e9cc978f-20ac-47e4-a19f-95cc72edbc34",
   "metadata": {
    "editable": true,
    "slideshow": {
     "slide_type": ""
    },
    "tags": [
     "solution"
    ]
   },
   "source": [
    "_Solution._\n",
    "Linearity seems reasonably satisfed, since the residuals versus fitted plot shows little curvature, with the points roughly evenly distributed above and below the zero residual line, moving from left to right. Equal variance also seems reasonably satisfied, since the points in the residuals versus fitted plot span a relatively constant vertical width, moving from left to right. Finally, normality also seems reasonably satisfied, since the normal QQ plot of the residuals is mostly linear. "
   ]
  },
  {
   "cell_type": "markdown",
   "id": "5a95b78b-9a11-4ce4-bb00-31b9eea93369",
   "metadata": {
    "editable": true,
    "slideshow": {
     "slide_type": ""
    },
    "tags": []
   },
   "source": [
    "- Comment on whether there are any problematic observations that may distort the outcome and accuracy of the regression."
   ]
  },
  {
   "cell_type": "markdown",
   "id": "b8dd72b7-43a6-4c2a-9612-56b0b00e8e1d",
   "metadata": {
    "editable": true,
    "slideshow": {
     "slide_type": ""
    },
    "tags": []
   },
   "source": [
    "_Write your notes here. Double-click to edit._"
   ]
  },
  {
   "cell_type": "markdown",
   "id": "26876c73-5ede-4fbc-8dc1-a9d7da740498",
   "metadata": {
    "editable": true,
    "slideshow": {
     "slide_type": ""
    },
    "tags": [
     "solution"
    ]
   },
   "source": [
    "_Solution._\n",
    "There do not appear to be any problematic observations that may distort the outcome and accuracy of the regression: for all observations, the Cook's distance is below 0.5."
   ]
  },
  {
   "cell_type": "markdown",
   "id": "7e50d151-ccea-427c-b758-68a70675b0f8",
   "metadata": {
    "editable": true,
    "slideshow": {
     "slide_type": ""
    },
    "tags": []
   },
   "source": [
    "- Comment on whether the predictors in the model exhibit multicollinearity."
   ]
  },
  {
   "cell_type": "markdown",
   "id": "00ad8469-2d18-4180-88b8-fca38696dbbb",
   "metadata": {
    "editable": true,
    "slideshow": {
     "slide_type": ""
    },
    "tags": []
   },
   "source": [
    "_Write your notes here. Double-click to edit._"
   ]
  },
  {
   "cell_type": "markdown",
   "id": "74465d8d-67a2-449c-afa6-c2a071b57261",
   "metadata": {
    "editable": true,
    "slideshow": {
     "slide_type": ""
    },
    "tags": [
     "solution"
    ]
   },
   "source": [
    "_Solution._\n",
    "Multicollinearity does not appear to be an issue, since the variance inflation factors for all of the predictors are relatively small (VIFs < 5)."
   ]
  },
  {
   "cell_type": "markdown",
   "id": "b2f98087-789f-4f05-b511-127a1acc00f8",
   "metadata": {
    "editable": true,
    "slideshow": {
     "slide_type": ""
    },
    "tags": []
   },
   "source": [
    "## Statistical significance "
   ]
  },
  {
   "cell_type": "markdown",
   "id": "f32db70a-e6bf-4149-83df-99036604076f",
   "metadata": {
    "editable": true,
    "slideshow": {
     "slide_type": ""
    },
    "tags": []
   },
   "source": [
    "- Comment on the effectiveness of the predictors in this model. "
   ]
  },
  {
   "cell_type": "markdown",
   "id": "2f2a41f6-5645-43fa-b4c4-c416b0dad0b9",
   "metadata": {
    "editable": true,
    "slideshow": {
     "slide_type": ""
    },
    "tags": []
   },
   "source": [
    "_Write your notes here. Double-click to edit._"
   ]
  },
  {
   "cell_type": "markdown",
   "id": "6ce063a6-c665-404d-a942-7c5c456eeb07",
   "metadata": {
    "editable": true,
    "slideshow": {
     "slide_type": ""
    },
    "tags": [
     "solution"
    ]
   },
   "source": [
    "_Solution._\n",
    "The t-tests for the coefficients indicate that each of the predictors in our model is significantly associated with monthly beer consumption (p-values < 0.01), except for the month of February. "
   ]
  },
  {
   "cell_type": "markdown",
   "id": "928a2a65-f22d-440a-8fc1-6e7e7e623b4e",
   "metadata": {
    "editable": true,
    "slideshow": {
     "slide_type": ""
    },
    "tags": []
   },
   "source": [
    "- Comment on the overall effectiveness of the model."
   ]
  },
  {
   "cell_type": "markdown",
   "id": "586c7a6c-9c64-4911-aa90-fca17f2eb472",
   "metadata": {
    "editable": true,
    "slideshow": {
     "slide_type": ""
    },
    "tags": []
   },
   "source": [
    "_Write your notes here. Double-click to edit._"
   ]
  },
  {
   "cell_type": "markdown",
   "id": "5fe94027-6ace-496c-9da1-fd239d9e7063",
   "metadata": {
    "editable": true,
    "slideshow": {
     "slide_type": ""
    },
    "tags": [
     "solution"
    ]
   },
   "source": [
    "_Solution._\n",
    "Furthermore, the F-test provides strong evidence that the overall model is effective (p-value $\\approx$ 0).\n",
    "97.32\\% of the variability in monthly beer consumption can be explained by the predictors in our model."
   ]
  },
  {
   "cell_type": "markdown",
   "id": "a548d915-d462-4d5f-99c4-db33fea87f6c",
   "metadata": {
    "editable": true,
    "slideshow": {
     "slide_type": ""
    },
    "tags": []
   },
   "source": [
    "## Interpretation"
   ]
  },
  {
   "cell_type": "markdown",
   "id": "82e2b494-3e4b-43ae-938f-8b1c8052affc",
   "metadata": {
    "editable": true,
    "slideshow": {
     "slide_type": ""
    },
    "tags": []
   },
   "source": [
    "- Interpret the relationship between monthly beer consumption and each of the following variables: average beer price, average canned soft drink price, number of Ramadan days in a month. "
   ]
  },
  {
   "cell_type": "markdown",
   "id": "2d88455f-5433-4c31-a7aa-d398bd8fdcd1",
   "metadata": {
    "editable": true,
    "slideshow": {
     "slide_type": ""
    },
    "tags": []
   },
   "source": [
    "_Write your notes here. Double-click to edit._"
   ]
  },
  {
   "cell_type": "code",
   "execution_count": 7,
   "id": "657836a9-34d9-4dcc-884e-e61b8fc76a7c",
   "metadata": {
    "editable": true,
    "slideshow": {
     "slide_type": ""
    },
    "tags": [
     "solution"
    ]
   },
   "outputs": [
    {
     "data": {
      "text/html": [
       "0.9754220791177"
      ],
      "text/latex": [
       "0.9754220791177"
      ],
      "text/markdown": [
       "0.9754220791177"
      ],
      "text/plain": [
       "[1] 0.9754221"
      ]
     },
     "metadata": {},
     "output_type": "display_data"
    }
   ],
   "source": [
    "# Solution\n",
    "exp(50 * -4.977e-04)"
   ]
  },
  {
   "cell_type": "code",
   "execution_count": 8,
   "id": "72f0e278-beaa-4265-bbf9-00ec6b75337f",
   "metadata": {
    "editable": true,
    "slideshow": {
     "slide_type": ""
    },
    "tags": [
     "solution"
    ]
   },
   "outputs": [
    {
     "data": {
      "text/html": [
       "1.00877326143591"
      ],
      "text/latex": [
       "1.00877326143591"
      ],
      "text/markdown": [
       "1.00877326143591"
      ],
      "text/plain": [
       "[1] 1.008773"
      ]
     },
     "metadata": {},
     "output_type": "display_data"
    }
   ],
   "source": [
    "# Solution\n",
    "exp(50 * 1.747e-04)"
   ]
  },
  {
   "cell_type": "code",
   "execution_count": 9,
   "id": "2ea392e8-c656-4770-9bb4-4fa432087044",
   "metadata": {
    "editable": true,
    "slideshow": {
     "slide_type": ""
    },
    "tags": [
     "solution"
    ]
   },
   "outputs": [
    {
     "data": {
      "text/html": [
       "0.985644043705626"
      ],
      "text/latex": [
       "0.985644043705626"
      ],
      "text/markdown": [
       "0.985644043705626"
      ],
      "text/plain": [
       "[1] 0.985644"
      ]
     },
     "metadata": {},
     "output_type": "display_data"
    }
   ],
   "source": [
    "# Solution\n",
    "exp(-1.446e-02)"
   ]
  },
  {
   "cell_type": "markdown",
   "id": "ef37d8a1-91e8-42fc-a584-65b5e66b6546",
   "metadata": {
    "editable": true,
    "slideshow": {
     "slide_type": ""
    },
    "tags": [
     "solution"
    ]
   },
   "source": [
    "_Solution._\n",
    "Our model indicates that on average, increasing the average beer price by 50 lira is associated with a 2.5% decrease in monthly beer consumption, while increasing the average canned soft drink price by 50 lira is associated with an 0.8% increase in monthly beer consumption, holding all other variables constant. An additional day of Ramadan in a particular month is associated with a 1.5% expected decrease in monthly beer consumption."
   ]
  },
  {
   "cell_type": "markdown",
   "id": "3ded1274-a61e-4637-a977-31b8e6a01ffa",
   "metadata": {
    "editable": true,
    "slideshow": {
     "slide_type": ""
    },
    "tags": []
   },
   "source": [
    "- Interpret the relationship between the month of August and monthly beer consumption."
   ]
  },
  {
   "cell_type": "markdown",
   "id": "ca92a1ad-70a5-4e62-b53b-8f0af812b988",
   "metadata": {
    "editable": true,
    "slideshow": {
     "slide_type": ""
    },
    "tags": []
   },
   "source": [
    "_Write your notes here. Double-click to edit._"
   ]
  },
  {
   "cell_type": "code",
   "execution_count": 10,
   "id": "9e005b94-41f4-4e5a-9605-4bd4efa4a93a",
   "metadata": {
    "editable": true,
    "slideshow": {
     "slide_type": ""
    },
    "tags": [
     "solution"
    ]
   },
   "outputs": [
    {
     "data": {
      "text/html": [
       "2.69716170575453"
      ],
      "text/latex": [
       "2.69716170575453"
      ],
      "text/markdown": [
       "2.69716170575453"
      ],
      "text/plain": [
       "[1] 2.697162"
      ]
     },
     "metadata": {},
     "output_type": "display_data"
    }
   ],
   "source": [
    "# Solution\n",
    "exp(9.922e-01)"
   ]
  },
  {
   "cell_type": "markdown",
   "id": "6863e863-626a-4dda-b0a5-2e4f9b546428",
   "metadata": {
    "editable": true,
    "slideshow": {
     "slide_type": ""
    },
    "tags": [
     "solution"
    ]
   },
   "source": [
    "_Solution._\n",
    "Our model also indicates the summer months are associated with higher monthly beer consumption. For example, according to our model, on average, monthly beer consumption is 2.7 times higher in August than in January. "
   ]
  },
  {
   "cell_type": "markdown",
   "id": "2d1db554-39b2-40ef-95f1-40671d617e5a",
   "metadata": {
    "editable": true,
    "slideshow": {
     "slide_type": ""
    },
    "tags": []
   },
   "source": [
    "- Show how the model can be used to predict a hypothetical scenario. Provide a prediction interval. "
   ]
  },
  {
   "cell_type": "markdown",
   "id": "ef2575a8-3f11-4de7-a03d-da2a243f15db",
   "metadata": {
    "editable": true,
    "slideshow": {
     "slide_type": ""
    },
    "tags": []
   },
   "source": [
    "_Write your notes here. Double-click to edit._"
   ]
  },
  {
   "cell_type": "code",
   "execution_count": 11,
   "id": "4ebc0f69-b77c-450d-93b8-cd6f7f898f68",
   "metadata": {
    "editable": true,
    "slideshow": {
     "slide_type": ""
    },
    "tags": [
     "solution"
    ]
   },
   "outputs": [
    {
     "data": {
      "text/html": [
       "<table class=\"dataframe\">\n",
       "<caption>A matrix: 1 × 3 of type dbl</caption>\n",
       "<thead>\n",
       "\t<tr><th></th><th scope=col>fit</th><th scope=col>lwr</th><th scope=col>upr</th></tr>\n",
       "</thead>\n",
       "<tbody>\n",
       "\t<tr><th scope=row>1</th><td>18.21768</td><td>18.04003</td><td>18.39533</td></tr>\n",
       "</tbody>\n",
       "</table>\n"
      ],
      "text/latex": [
       "A matrix: 1 × 3 of type dbl\n",
       "\\begin{tabular}{r|lll}\n",
       "  & fit & lwr & upr\\\\\n",
       "\\hline\n",
       "\t1 & 18.21768 & 18.04003 & 18.39533\\\\\n",
       "\\end{tabular}\n"
      ],
      "text/markdown": [
       "\n",
       "A matrix: 1 × 3 of type dbl\n",
       "\n",
       "| <!--/--> | fit | lwr | upr |\n",
       "|---|---|---|---|\n",
       "| 1 | 18.21768 | 18.04003 | 18.39533 |\n",
       "\n"
      ],
      "text/plain": [
       "  fit      lwr      upr     \n",
       "1 18.21768 18.04003 18.39533"
      ]
     },
     "metadata": {},
     "output_type": "display_data"
    },
    {
     "data": {
      "text/html": [
       "<table class=\"dataframe\">\n",
       "<caption>A matrix: 1 × 3 of type dbl</caption>\n",
       "<thead>\n",
       "\t<tr><th></th><th scope=col>fit</th><th scope=col>lwr</th><th scope=col>upr</th></tr>\n",
       "</thead>\n",
       "<tbody>\n",
       "\t<tr><th scope=row>1</th><td>81627838</td><td>68341961</td><td>97496529</td></tr>\n",
       "</tbody>\n",
       "</table>\n"
      ],
      "text/latex": [
       "A matrix: 1 × 3 of type dbl\n",
       "\\begin{tabular}{r|lll}\n",
       "  & fit & lwr & upr\\\\\n",
       "\\hline\n",
       "\t1 & 81627838 & 68341961 & 97496529\\\\\n",
       "\\end{tabular}\n"
      ],
      "text/markdown": [
       "\n",
       "A matrix: 1 × 3 of type dbl\n",
       "\n",
       "| <!--/--> | fit | lwr | upr |\n",
       "|---|---|---|---|\n",
       "| 1 | 81627838 | 68341961 | 97496529 |\n",
       "\n"
      ],
      "text/plain": [
       "  fit      lwr      upr     \n",
       "1 81627838 68341961 97496529"
      ]
     },
     "metadata": {},
     "output_type": "display_data"
    }
   ],
   "source": [
    "# Solution\n",
    "fit_predict <- predict(\n",
    "    best5_logfit, \n",
    "    newdata=data.frame(\n",
    "        AvgBeerPrice=1200,\n",
    "        AvgCannedSoftDrinkPrice=1600,\n",
    "        RamadanDays=0,\n",
    "        Year=1994,\n",
    "        Month=\"August\"\n",
    "    ), \n",
    "    interval=\"prediction\", \n",
    "    level=0.95\n",
    ")\n",
    "\n",
    "fit_predict\n",
    "exp(fit_predict)"
   ]
  },
  {
   "cell_type": "markdown",
   "id": "3cfd2466-0a1c-4296-9904-87176bba8648",
   "metadata": {
    "editable": true,
    "slideshow": {
     "slide_type": ""
    },
    "tags": [
     "solution"
    ]
   },
   "source": [
    "_Solution_.\n",
    "By plugging values into our fitted model, we can predict monthly beer consumption, depending on the average beer price, average canned soft drink price, the number of Ramadan days in the month, the year, and the month. For example, consider a hypothetical August 1994, when the average beer price is 1200 lira and the average canned soft drink price is 1600 lira (since it is August, it is not Ramadan). Our model predicts a monthly beer consumption of 81,627,838 liters. Furthermore, we are 95% confident that the monthly beer consumption is between 68,341,961 and 97,496,529 liters.   "
   ]
  }
 ],
 "metadata": {
  "kernelspec": {
   "display_name": "R",
   "language": "R",
   "name": "ir"
  },
  "language_info": {
   "codemirror_mode": "r",
   "file_extension": ".r",
   "mimetype": "text/x-r-source",
   "name": "R",
   "pygments_lexer": "r",
   "version": "4.2.2"
  }
 },
 "nbformat": 4,
 "nbformat_minor": 5
}
